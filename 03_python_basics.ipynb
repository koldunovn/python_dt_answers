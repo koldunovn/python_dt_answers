{
 "cells": [
  {
   "cell_type": "markdown",
   "id": "2b1e80ca",
   "metadata": {},
   "source": [
    "### Precipitation"
   ]
  },
  {
   "cell_type": "code",
   "execution_count": 72,
   "id": "f4197d49",
   "metadata": {},
   "outputs": [],
   "source": [
    "precip = [62, 56, 47, 44, 26, 62, 51, 68, 56, 48, 59, 46]"
   ]
  },
  {
   "cell_type": "code",
   "execution_count": 71,
   "id": "8f7394e5",
   "metadata": {},
   "outputs": [
    {
     "name": "stdout",
     "output_type": "stream",
     "text": [
      "625\n"
     ]
    }
   ],
   "source": [
    "total = 0\n",
    "for month_val in precip:\n",
    "    total=total+month_val\n",
    "print(total)"
   ]
  },
  {
   "cell_type": "code",
   "execution_count": 73,
   "id": "9b973d7e",
   "metadata": {},
   "outputs": [
    {
     "name": "stdout",
     "output_type": "stream",
     "text": [
      "52.083333333333336\n"
     ]
    }
   ],
   "source": [
    "total = 0\n",
    "for month_val in precip:\n",
    "    total=total+month_val\n",
    "print(total/12)"
   ]
  },
  {
   "cell_type": "code",
   "execution_count": 76,
   "id": "70d23276",
   "metadata": {},
   "outputs": [
    {
     "data": {
      "text/plain": [
       "52.083333333333336"
      ]
     },
     "execution_count": 76,
     "metadata": {},
     "output_type": "execute_result"
    }
   ],
   "source": [
    "sum(precip)/len(precip)"
   ]
  },
  {
   "cell_type": "markdown",
   "id": "75c04cbf",
   "metadata": {},
   "source": [
    "## bottles"
   ]
  },
  {
   "cell_type": "code",
   "execution_count": 6,
   "id": "5bcd874d",
   "metadata": {},
   "outputs": [
    {
     "name": "stdout",
     "output_type": "stream",
     "text": [
      "99 Bottles of beer on the wall,\n",
      "99 Bottles of beer,\n",
      "Take one down and pass it around,\n",
      "98 Bottles of beer on the wall.\n",
      "\n",
      "\n",
      "98 Bottles of beer on the wall,\n",
      "98 Bottles of beer,\n",
      "Take one down and pass it around,\n",
      "97 Bottles of beer on the wall.\n",
      "\n",
      "\n",
      "97 Bottles of beer on the wall,\n",
      "97 Bottles of beer,\n",
      "Take one down and pass it around,\n",
      "96 Bottles of beer on the wall.\n",
      "\n",
      "\n",
      "96 Bottles of beer on the wall,\n",
      "96 Bottles of beer,\n",
      "Take one down and pass it around,\n",
      "95 Bottles of beer on the wall.\n",
      "\n",
      "\n",
      "95 Bottles of beer on the wall,\n",
      "95 Bottles of beer,\n",
      "Take one down and pass it around,\n",
      "94 Bottles of beer on the wall.\n",
      "\n",
      "\n",
      "94 Bottles of beer on the wall,\n",
      "94 Bottles of beer,\n",
      "Take one down and pass it around,\n",
      "93 Bottles of beer on the wall.\n",
      "\n",
      "\n",
      "93 Bottles of beer on the wall,\n",
      "93 Bottles of beer,\n",
      "Take one down and pass it around,\n",
      "92 Bottles of beer on the wall.\n",
      "\n",
      "\n",
      "92 Bottles of beer on the wall,\n",
      "92 Bottles of beer,\n",
      "Take one down and pass it around,\n",
      "91 Bottles of beer on the wall.\n",
      "\n",
      "\n",
      "91 Bottles of beer on the wall,\n",
      "91 Bottles of beer,\n",
      "Take one down and pass it around,\n",
      "90 Bottles of beer on the wall.\n",
      "\n",
      "\n",
      "90 Bottles of beer on the wall,\n",
      "90 Bottles of beer,\n",
      "Take one down and pass it around,\n",
      "89 Bottles of beer on the wall.\n",
      "\n",
      "\n",
      "89 Bottles of beer on the wall,\n",
      "89 Bottles of beer,\n",
      "Take one down and pass it around,\n",
      "88 Bottles of beer on the wall.\n",
      "\n",
      "\n",
      "88 Bottles of beer on the wall,\n",
      "88 Bottles of beer,\n",
      "Take one down and pass it around,\n",
      "87 Bottles of beer on the wall.\n",
      "\n",
      "\n",
      "87 Bottles of beer on the wall,\n",
      "87 Bottles of beer,\n",
      "Take one down and pass it around,\n",
      "86 Bottles of beer on the wall.\n",
      "\n",
      "\n",
      "86 Bottles of beer on the wall,\n",
      "86 Bottles of beer,\n",
      "Take one down and pass it around,\n",
      "85 Bottles of beer on the wall.\n",
      "\n",
      "\n",
      "85 Bottles of beer on the wall,\n",
      "85 Bottles of beer,\n",
      "Take one down and pass it around,\n",
      "84 Bottles of beer on the wall.\n",
      "\n",
      "\n",
      "84 Bottles of beer on the wall,\n",
      "84 Bottles of beer,\n",
      "Take one down and pass it around,\n",
      "83 Bottles of beer on the wall.\n",
      "\n",
      "\n",
      "83 Bottles of beer on the wall,\n",
      "83 Bottles of beer,\n",
      "Take one down and pass it around,\n",
      "82 Bottles of beer on the wall.\n",
      "\n",
      "\n",
      "82 Bottles of beer on the wall,\n",
      "82 Bottles of beer,\n",
      "Take one down and pass it around,\n",
      "81 Bottles of beer on the wall.\n",
      "\n",
      "\n",
      "81 Bottles of beer on the wall,\n",
      "81 Bottles of beer,\n",
      "Take one down and pass it around,\n",
      "80 Bottles of beer on the wall.\n",
      "\n",
      "\n",
      "80 Bottles of beer on the wall,\n",
      "80 Bottles of beer,\n",
      "Take one down and pass it around,\n",
      "79 Bottles of beer on the wall.\n",
      "\n",
      "\n",
      "79 Bottles of beer on the wall,\n",
      "79 Bottles of beer,\n",
      "Take one down and pass it around,\n",
      "78 Bottles of beer on the wall.\n",
      "\n",
      "\n",
      "78 Bottles of beer on the wall,\n",
      "78 Bottles of beer,\n",
      "Take one down and pass it around,\n",
      "77 Bottles of beer on the wall.\n",
      "\n",
      "\n",
      "77 Bottles of beer on the wall,\n",
      "77 Bottles of beer,\n",
      "Take one down and pass it around,\n",
      "76 Bottles of beer on the wall.\n",
      "\n",
      "\n",
      "76 Bottles of beer on the wall,\n",
      "76 Bottles of beer,\n",
      "Take one down and pass it around,\n",
      "75 Bottles of beer on the wall.\n",
      "\n",
      "\n",
      "75 Bottles of beer on the wall,\n",
      "75 Bottles of beer,\n",
      "Take one down and pass it around,\n",
      "74 Bottles of beer on the wall.\n",
      "\n",
      "\n",
      "74 Bottles of beer on the wall,\n",
      "74 Bottles of beer,\n",
      "Take one down and pass it around,\n",
      "73 Bottles of beer on the wall.\n",
      "\n",
      "\n",
      "73 Bottles of beer on the wall,\n",
      "73 Bottles of beer,\n",
      "Take one down and pass it around,\n",
      "72 Bottles of beer on the wall.\n",
      "\n",
      "\n",
      "72 Bottles of beer on the wall,\n",
      "72 Bottles of beer,\n",
      "Take one down and pass it around,\n",
      "71 Bottles of beer on the wall.\n",
      "\n",
      "\n",
      "71 Bottles of beer on the wall,\n",
      "71 Bottles of beer,\n",
      "Take one down and pass it around,\n",
      "70 Bottles of beer on the wall.\n",
      "\n",
      "\n",
      "70 Bottles of beer on the wall,\n",
      "70 Bottles of beer,\n",
      "Take one down and pass it around,\n",
      "69 Bottles of beer on the wall.\n",
      "\n",
      "\n",
      "69 Bottles of beer on the wall,\n",
      "69 Bottles of beer,\n",
      "Take one down and pass it around,\n",
      "68 Bottles of beer on the wall.\n",
      "\n",
      "\n",
      "68 Bottles of beer on the wall,\n",
      "68 Bottles of beer,\n",
      "Take one down and pass it around,\n",
      "67 Bottles of beer on the wall.\n",
      "\n",
      "\n",
      "67 Bottles of beer on the wall,\n",
      "67 Bottles of beer,\n",
      "Take one down and pass it around,\n",
      "66 Bottles of beer on the wall.\n",
      "\n",
      "\n",
      "66 Bottles of beer on the wall,\n",
      "66 Bottles of beer,\n",
      "Take one down and pass it around,\n",
      "65 Bottles of beer on the wall.\n",
      "\n",
      "\n",
      "65 Bottles of beer on the wall,\n",
      "65 Bottles of beer,\n",
      "Take one down and pass it around,\n",
      "64 Bottles of beer on the wall.\n",
      "\n",
      "\n",
      "64 Bottles of beer on the wall,\n",
      "64 Bottles of beer,\n",
      "Take one down and pass it around,\n",
      "63 Bottles of beer on the wall.\n",
      "\n",
      "\n",
      "63 Bottles of beer on the wall,\n",
      "63 Bottles of beer,\n",
      "Take one down and pass it around,\n",
      "62 Bottles of beer on the wall.\n",
      "\n",
      "\n",
      "62 Bottles of beer on the wall,\n",
      "62 Bottles of beer,\n",
      "Take one down and pass it around,\n",
      "61 Bottles of beer on the wall.\n",
      "\n",
      "\n",
      "61 Bottles of beer on the wall,\n",
      "61 Bottles of beer,\n",
      "Take one down and pass it around,\n",
      "60 Bottles of beer on the wall.\n",
      "\n",
      "\n",
      "60 Bottles of beer on the wall,\n",
      "60 Bottles of beer,\n",
      "Take one down and pass it around,\n",
      "59 Bottles of beer on the wall.\n",
      "\n",
      "\n",
      "59 Bottles of beer on the wall,\n",
      "59 Bottles of beer,\n",
      "Take one down and pass it around,\n",
      "58 Bottles of beer on the wall.\n",
      "\n",
      "\n",
      "58 Bottles of beer on the wall,\n",
      "58 Bottles of beer,\n",
      "Take one down and pass it around,\n",
      "57 Bottles of beer on the wall.\n",
      "\n",
      "\n",
      "57 Bottles of beer on the wall,\n",
      "57 Bottles of beer,\n",
      "Take one down and pass it around,\n",
      "56 Bottles of beer on the wall.\n",
      "\n",
      "\n",
      "56 Bottles of beer on the wall,\n",
      "56 Bottles of beer,\n",
      "Take one down and pass it around,\n",
      "55 Bottles of beer on the wall.\n",
      "\n",
      "\n",
      "55 Bottles of beer on the wall,\n",
      "55 Bottles of beer,\n",
      "Take one down and pass it around,\n",
      "54 Bottles of beer on the wall.\n",
      "\n",
      "\n",
      "54 Bottles of beer on the wall,\n",
      "54 Bottles of beer,\n",
      "Take one down and pass it around,\n",
      "53 Bottles of beer on the wall.\n",
      "\n",
      "\n",
      "53 Bottles of beer on the wall,\n",
      "53 Bottles of beer,\n",
      "Take one down and pass it around,\n",
      "52 Bottles of beer on the wall.\n",
      "\n",
      "\n",
      "52 Bottles of beer on the wall,\n",
      "52 Bottles of beer,\n",
      "Take one down and pass it around,\n",
      "51 Bottles of beer on the wall.\n",
      "\n",
      "\n",
      "51 Bottles of beer on the wall,\n",
      "51 Bottles of beer,\n",
      "Take one down and pass it around,\n",
      "50 Bottles of beer on the wall.\n",
      "\n",
      "\n",
      "50 Bottles of beer on the wall,\n",
      "50 Bottles of beer,\n",
      "Take one down and pass it around,\n",
      "49 Bottles of beer on the wall.\n",
      "\n",
      "\n",
      "49 Bottles of beer on the wall,\n",
      "49 Bottles of beer,\n",
      "Take one down and pass it around,\n",
      "48 Bottles of beer on the wall.\n",
      "\n",
      "\n",
      "48 Bottles of beer on the wall,\n",
      "48 Bottles of beer,\n",
      "Take one down and pass it around,\n",
      "47 Bottles of beer on the wall.\n",
      "\n",
      "\n",
      "47 Bottles of beer on the wall,\n",
      "47 Bottles of beer,\n",
      "Take one down and pass it around,\n",
      "46 Bottles of beer on the wall.\n",
      "\n",
      "\n",
      "46 Bottles of beer on the wall,\n",
      "46 Bottles of beer,\n",
      "Take one down and pass it around,\n",
      "45 Bottles of beer on the wall.\n",
      "\n",
      "\n",
      "45 Bottles of beer on the wall,\n",
      "45 Bottles of beer,\n",
      "Take one down and pass it around,\n",
      "44 Bottles of beer on the wall.\n",
      "\n",
      "\n",
      "44 Bottles of beer on the wall,\n",
      "44 Bottles of beer,\n",
      "Take one down and pass it around,\n",
      "43 Bottles of beer on the wall.\n",
      "\n",
      "\n",
      "43 Bottles of beer on the wall,\n",
      "43 Bottles of beer,\n",
      "Take one down and pass it around,\n",
      "42 Bottles of beer on the wall.\n",
      "\n",
      "\n",
      "42 Bottles of beer on the wall,\n",
      "42 Bottles of beer,\n",
      "Take one down and pass it around,\n",
      "41 Bottles of beer on the wall.\n",
      "\n",
      "\n",
      "41 Bottles of beer on the wall,\n",
      "41 Bottles of beer,\n",
      "Take one down and pass it around,\n",
      "40 Bottles of beer on the wall.\n",
      "\n",
      "\n",
      "40 Bottles of beer on the wall,\n",
      "40 Bottles of beer,\n",
      "Take one down and pass it around,\n",
      "39 Bottles of beer on the wall.\n",
      "\n",
      "\n",
      "39 Bottles of beer on the wall,\n",
      "39 Bottles of beer,\n",
      "Take one down and pass it around,\n",
      "38 Bottles of beer on the wall.\n",
      "\n",
      "\n",
      "38 Bottles of beer on the wall,\n",
      "38 Bottles of beer,\n",
      "Take one down and pass it around,\n",
      "37 Bottles of beer on the wall.\n",
      "\n",
      "\n",
      "37 Bottles of beer on the wall,\n",
      "37 Bottles of beer,\n",
      "Take one down and pass it around,\n",
      "36 Bottles of beer on the wall.\n",
      "\n",
      "\n",
      "36 Bottles of beer on the wall,\n",
      "36 Bottles of beer,\n",
      "Take one down and pass it around,\n",
      "35 Bottles of beer on the wall.\n",
      "\n",
      "\n",
      "35 Bottles of beer on the wall,\n",
      "35 Bottles of beer,\n",
      "Take one down and pass it around,\n",
      "34 Bottles of beer on the wall.\n",
      "\n",
      "\n",
      "34 Bottles of beer on the wall,\n",
      "34 Bottles of beer,\n",
      "Take one down and pass it around,\n",
      "33 Bottles of beer on the wall.\n",
      "\n",
      "\n",
      "33 Bottles of beer on the wall,\n",
      "33 Bottles of beer,\n",
      "Take one down and pass it around,\n",
      "32 Bottles of beer on the wall.\n",
      "\n",
      "\n",
      "32 Bottles of beer on the wall,\n",
      "32 Bottles of beer,\n",
      "Take one down and pass it around,\n",
      "31 Bottles of beer on the wall.\n",
      "\n",
      "\n",
      "31 Bottles of beer on the wall,\n",
      "31 Bottles of beer,\n",
      "Take one down and pass it around,\n",
      "30 Bottles of beer on the wall.\n",
      "\n",
      "\n",
      "30 Bottles of beer on the wall,\n",
      "30 Bottles of beer,\n",
      "Take one down and pass it around,\n",
      "29 Bottles of beer on the wall.\n",
      "\n",
      "\n",
      "29 Bottles of beer on the wall,\n",
      "29 Bottles of beer,\n",
      "Take one down and pass it around,\n",
      "28 Bottles of beer on the wall.\n",
      "\n",
      "\n",
      "28 Bottles of beer on the wall,\n",
      "28 Bottles of beer,\n",
      "Take one down and pass it around,\n",
      "27 Bottles of beer on the wall.\n",
      "\n",
      "\n",
      "27 Bottles of beer on the wall,\n",
      "27 Bottles of beer,\n",
      "Take one down and pass it around,\n",
      "26 Bottles of beer on the wall.\n",
      "\n",
      "\n",
      "26 Bottles of beer on the wall,\n",
      "26 Bottles of beer,\n",
      "Take one down and pass it around,\n",
      "25 Bottles of beer on the wall.\n",
      "\n",
      "\n",
      "25 Bottles of beer on the wall,\n",
      "25 Bottles of beer,\n",
      "Take one down and pass it around,\n",
      "24 Bottles of beer on the wall.\n",
      "\n",
      "\n",
      "24 Bottles of beer on the wall,\n",
      "24 Bottles of beer,\n",
      "Take one down and pass it around,\n",
      "23 Bottles of beer on the wall.\n",
      "\n",
      "\n",
      "23 Bottles of beer on the wall,\n",
      "23 Bottles of beer,\n",
      "Take one down and pass it around,\n",
      "22 Bottles of beer on the wall.\n",
      "\n",
      "\n",
      "22 Bottles of beer on the wall,\n",
      "22 Bottles of beer,\n",
      "Take one down and pass it around,\n",
      "21 Bottles of beer on the wall.\n",
      "\n",
      "\n",
      "21 Bottles of beer on the wall,\n",
      "21 Bottles of beer,\n",
      "Take one down and pass it around,\n",
      "20 Bottles of beer on the wall.\n",
      "\n",
      "\n",
      "20 Bottles of beer on the wall,\n",
      "20 Bottles of beer,\n",
      "Take one down and pass it around,\n",
      "19 Bottles of beer on the wall.\n",
      "\n",
      "\n",
      "19 Bottles of beer on the wall,\n",
      "19 Bottles of beer,\n",
      "Take one down and pass it around,\n",
      "18 Bottles of beer on the wall.\n",
      "\n",
      "\n",
      "18 Bottles of beer on the wall,\n",
      "18 Bottles of beer,\n",
      "Take one down and pass it around,\n",
      "17 Bottles of beer on the wall.\n",
      "\n",
      "\n",
      "17 Bottles of beer on the wall,\n",
      "17 Bottles of beer,\n",
      "Take one down and pass it around,\n",
      "16 Bottles of beer on the wall.\n",
      "\n",
      "\n",
      "16 Bottles of beer on the wall,\n",
      "16 Bottles of beer,\n",
      "Take one down and pass it around,\n",
      "15 Bottles of beer on the wall.\n",
      "\n",
      "\n",
      "15 Bottles of beer on the wall,\n",
      "15 Bottles of beer,\n",
      "Take one down and pass it around,\n",
      "14 Bottles of beer on the wall.\n",
      "\n",
      "\n",
      "14 Bottles of beer on the wall,\n",
      "14 Bottles of beer,\n",
      "Take one down and pass it around,\n",
      "13 Bottles of beer on the wall.\n",
      "\n",
      "\n",
      "13 Bottles of beer on the wall,\n",
      "13 Bottles of beer,\n",
      "Take one down and pass it around,\n",
      "12 Bottles of beer on the wall.\n",
      "\n",
      "\n",
      "12 Bottles of beer on the wall,\n",
      "12 Bottles of beer,\n",
      "Take one down and pass it around,\n",
      "11 Bottles of beer on the wall.\n",
      "\n",
      "\n",
      "11 Bottles of beer on the wall,\n",
      "11 Bottles of beer,\n",
      "Take one down and pass it around,\n",
      "10 Bottles of beer on the wall.\n",
      "\n",
      "\n",
      "10 Bottles of beer on the wall,\n",
      "10 Bottles of beer,\n",
      "Take one down and pass it around,\n",
      "9 Bottles of beer on the wall.\n",
      "\n",
      "\n",
      "9 Bottles of beer on the wall,\n",
      "9 Bottles of beer,\n",
      "Take one down and pass it around,\n",
      "8 Bottles of beer on the wall.\n",
      "\n",
      "\n",
      "8 Bottles of beer on the wall,\n",
      "8 Bottles of beer,\n",
      "Take one down and pass it around,\n",
      "7 Bottles of beer on the wall.\n",
      "\n",
      "\n",
      "7 Bottles of beer on the wall,\n",
      "7 Bottles of beer,\n",
      "Take one down and pass it around,\n",
      "6 Bottles of beer on the wall.\n",
      "\n",
      "\n",
      "6 Bottles of beer on the wall,\n",
      "6 Bottles of beer,\n",
      "Take one down and pass it around,\n",
      "5 Bottles of beer on the wall.\n",
      "\n",
      "\n",
      "5 Bottles of beer on the wall,\n",
      "5 Bottles of beer,\n",
      "Take one down and pass it around,\n",
      "4 Bottles of beer on the wall.\n",
      "\n",
      "\n",
      "4 Bottles of beer on the wall,\n",
      "4 Bottles of beer,\n",
      "Take one down and pass it around,\n",
      "3 Bottles of beer on the wall.\n",
      "\n",
      "\n",
      "3 Bottles of beer on the wall,\n",
      "3 Bottles of beer,\n",
      "Take one down and pass it around,\n",
      "2 Bottles of beer on the wall.\n",
      "\n",
      "\n",
      "2 Bottles of beer on the wall,\n",
      "2 Bottles of beer,\n",
      "Take one down and pass it around,\n",
      "1 Bottles of beer on the wall.\n",
      "\n",
      "\n",
      "1 Bottle of beer on the wall,\n",
      "1 Bottle of beer,\n",
      "Take one down and pass it around,\n",
      "No more bottles of beer on the wall!\n",
      "\n",
      "\n"
     ]
    }
   ],
   "source": [
    "\n",
    "bottles = range(99, 0, -1)\n",
    "\n",
    "for bottle in bottles:\n",
    "    if bottle > 1:\n",
    "        print(f\"{bottle} Bottles of beer on the wall,\")\n",
    "        print(f\"{bottle} Bottles of beer,\")\n",
    "        print(\"Take one down and pass it around,\")\n",
    "        print(f\"{bottle-1} Bottles of beer on the wall.\")\n",
    "        print(f\"\\n\")\n",
    "    elif bottle == 1:\n",
    "        print(f\"{bottle} Bottle of beer on the wall,\")\n",
    "        print(f\"{bottle} Bottle of beer,\")\n",
    "        print(\"Take one down and pass it around,\")\n",
    "        print(f\"No more bottles of beer on the wall!\")\n",
    "        print(f\"\\n\")\n"
   ]
  },
  {
   "cell_type": "markdown",
   "id": "f3c85d50",
   "metadata": {},
   "source": [
    "## temperature conversion"
   ]
  },
  {
   "cell_type": "markdown",
   "id": "5e9ab716",
   "metadata": {},
   "source": [
    "Covert  $^{\\circ}$F to $^{\\circ}$C and back\n",
    "\n",
    "°C = (°F − 32) × 5/9\n",
    "\n",
    "°F = °C × 9/5 + 32"
   ]
  },
  {
   "cell_type": "code",
   "execution_count": 55,
   "id": "f204d2be",
   "metadata": {},
   "outputs": [],
   "source": [
    "def f2c(f):\n",
    "    c = (f-32)*(5/9)\n",
    "    print(f\"{f} °F = {c} °C\")"
   ]
  },
  {
   "cell_type": "code",
   "execution_count": 56,
   "id": "9a2c1b95",
   "metadata": {},
   "outputs": [
    {
     "name": "stdout",
     "output_type": "stream",
     "text": [
      "10 °F = -12.222222222222223 °C\n"
     ]
    }
   ],
   "source": [
    "f2c(10)"
   ]
  },
  {
   "cell_type": "code",
   "execution_count": 57,
   "id": "dd5a8e64",
   "metadata": {},
   "outputs": [],
   "source": [
    "def c2f(c):\n",
    "    f = c * 9/5 + 32\n",
    "    print(f\"{c} °C = {f} °F\")"
   ]
  },
  {
   "cell_type": "code",
   "execution_count": 58,
   "id": "420e6d77",
   "metadata": {},
   "outputs": [
    {
     "name": "stdout",
     "output_type": "stream",
     "text": [
      "-12.22222 °C = 10.000004 °F\n"
     ]
    }
   ],
   "source": [
    "c2f(-12.22222)"
   ]
  },
  {
   "cell_type": "markdown",
   "id": "d37546a3",
   "metadata": {},
   "source": [
    "Add return value"
   ]
  },
  {
   "cell_type": "code",
   "execution_count": 59,
   "id": "e08703d2",
   "metadata": {},
   "outputs": [],
   "source": [
    "def f2c(f):\n",
    "    c = (f-32)*(5/9)\n",
    "#     print(f\"{f} °F = {c} °C\")\n",
    "    return c"
   ]
  },
  {
   "cell_type": "code",
   "execution_count": 60,
   "id": "100144fd",
   "metadata": {},
   "outputs": [],
   "source": [
    "def c2f(c):\n",
    "    f = c * 9/5 + 32\n",
    "#     print(f\"{c} °C = {f} °F\")\n",
    "    return f"
   ]
  },
  {
   "cell_type": "code",
   "execution_count": 61,
   "id": "9a4e8a26",
   "metadata": {},
   "outputs": [
    {
     "data": {
      "text/plain": [
       "9.999999999999996"
      ]
     },
     "execution_count": 61,
     "metadata": {},
     "output_type": "execute_result"
    }
   ],
   "source": [
    "c2f(f2c(10))"
   ]
  },
  {
   "cell_type": "markdown",
   "id": "05900996",
   "metadata": {},
   "source": [
    "Format the output"
   ]
  },
  {
   "cell_type": "code",
   "execution_count": 62,
   "id": "7b2a74db",
   "metadata": {},
   "outputs": [],
   "source": [
    "def f2c(f):\n",
    "    c = (f-32)*(5/9)\n",
    "    print(f\"{f:5.2f} °F = {c:5.3f} °C\")\n",
    "#     return c"
   ]
  },
  {
   "cell_type": "code",
   "execution_count": 63,
   "id": "18a351b4",
   "metadata": {},
   "outputs": [
    {
     "name": "stdout",
     "output_type": "stream",
     "text": [
      "10.00 °F = -12.222 °C\n"
     ]
    }
   ],
   "source": [
    "f2c(10)"
   ]
  },
  {
   "cell_type": "markdown",
   "id": "cd83efc5",
   "metadata": {},
   "source": [
    "## Function to return verce"
   ]
  },
  {
   "cell_type": "markdown",
   "id": "332fbd44",
   "metadata": {},
   "source": [
    "    print_verce(5)\n",
    "\n",
    "    5 Bottles of beer on the wall,\n",
    "    5 Bottles of beer,\n",
    "    Take one down and pass it around,\n",
    "    4 Bottles of beer on the wall."
   ]
  },
  {
   "cell_type": "code",
   "execution_count": 64,
   "id": "c383e902",
   "metadata": {},
   "outputs": [],
   "source": [
    "def print_verce(bottles):\n",
    "    print(f'{bottles} Bottles of beer on the wall,')\n",
    "    print(f'{bottles} Bottles of beer,')\n",
    "    print('Take one down and pass it around,')\n",
    "    print(f'{bottles-1} Bottles of beer on the wall,')"
   ]
  },
  {
   "cell_type": "code",
   "execution_count": 65,
   "id": "b24a3487",
   "metadata": {},
   "outputs": [
    {
     "name": "stdout",
     "output_type": "stream",
     "text": [
      "5 Bottles of beer on the wall,\n",
      "5 Bottles of beer,\n",
      "Take one down and pass it around,\n",
      "4 Bottles of beer on the wall,\n"
     ]
    }
   ],
   "source": [
    "print_verce(5)"
   ]
  },
  {
   "cell_type": "markdown",
   "id": "470e4613",
   "metadata": {},
   "source": [
    "## Function to return people in space"
   ]
  },
  {
   "cell_type": "code",
   "execution_count": 66,
   "id": "e673c0ea",
   "metadata": {},
   "outputs": [],
   "source": [
    "import requests as rq\n",
    "def spacepeople():\n",
    "    res = rq.get('http://api.open-notify.org/astros.json')\n",
    "    res_dict = res.json()\n",
    "    for person in res_dict['people']:\n",
    "        name = person['name']\n",
    "        craft = person['craft']\n",
    "        print(f'{name} is now on \"{craft}\"')"
   ]
  },
  {
   "cell_type": "code",
   "execution_count": 67,
   "id": "b216ee45",
   "metadata": {},
   "outputs": [
    {
     "name": "stdout",
     "output_type": "stream",
     "text": [
      "Mark Vande Hei is now on \"ISS\"\n",
      "Oleg Novitskiy is now on \"ISS\"\n",
      "Pyotr Dubrov is now on \"ISS\"\n",
      "Thomas Pesquet is now on \"ISS\"\n",
      "Megan McArthur is now on \"ISS\"\n",
      "Shane Kimbrough is now on \"ISS\"\n",
      "Akihiko Hoshide is now on \"ISS\"\n",
      "Nie Haisheng is now on \"Tiangong\"\n",
      "Liu Boming is now on \"Tiangong\"\n",
      "Tang Hongbo is now on \"Tiangong\"\n"
     ]
    }
   ],
   "source": [
    "spacepeople()"
   ]
  },
  {
   "cell_type": "markdown",
   "id": "5552dc8f",
   "metadata": {},
   "source": [
    "## Chuck Norris database "
   ]
  },
  {
   "cell_type": "code",
   "execution_count": 79,
   "id": "03fe7c4e",
   "metadata": {},
   "outputs": [],
   "source": [
    "import requests"
   ]
  },
  {
   "cell_type": "code",
   "execution_count": 81,
   "id": "e0beaf4f",
   "metadata": {},
   "outputs": [],
   "source": [
    "res = requests.get('http://api.icndb.com/jokes/random?firstName=John&lastName=Doe')"
   ]
  },
  {
   "cell_type": "code",
   "execution_count": 92,
   "id": "b543da6c",
   "metadata": {},
   "outputs": [
    {
     "data": {
      "text/plain": [
       "\"John Doe doesn't go on the internet, he has every internet site stored in his memory. He refreshes webpages by blinking.\""
      ]
     },
     "execution_count": 92,
     "metadata": {},
     "output_type": "execute_result"
    }
   ],
   "source": [
    "res.json()['value']['joke']"
   ]
  },
  {
   "cell_type": "code",
   "execution_count": 93,
   "id": "5fdbf0ed",
   "metadata": {},
   "outputs": [],
   "source": [
    "def iamchuck(name, surname):\n",
    "    res = requests.get(f'http://api.icndb.com/jokes/random?firstName={name}&lastName={surname}')\n",
    "    res_dict = res.json()\n",
    "    print(res_dict['value']['joke'])"
   ]
  },
  {
   "cell_type": "code",
   "execution_count": 94,
   "id": "0e994d17",
   "metadata": {},
   "outputs": [
    {
     "name": "stdout",
     "output_type": "stream",
     "text": [
      "Nikolay Koldunov doesn't use web standards as the web will conform to him.\n"
     ]
    }
   ],
   "source": [
    "iamchuck('Nikolay', 'Koldunov')"
   ]
  },
  {
   "cell_type": "code",
   "execution_count": null,
   "id": "1fc9dd18",
   "metadata": {},
   "outputs": [],
   "source": []
  }
 ],
 "metadata": {
  "kernelspec": {
   "display_name": "Python 3 (ipykernel)",
   "language": "python",
   "name": "python3"
  },
  "language_info": {
   "codemirror_mode": {
    "name": "ipython",
    "version": 3
   },
   "file_extension": ".py",
   "mimetype": "text/x-python",
   "name": "python",
   "nbconvert_exporter": "python",
   "pygments_lexer": "ipython3",
   "version": "3.8.10"
  }
 },
 "nbformat": 4,
 "nbformat_minor": 5
}
